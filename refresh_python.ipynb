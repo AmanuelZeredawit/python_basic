{
 "cells": [
  {
   "cell_type": "code",
   "execution_count": 1,
   "metadata": {},
   "outputs": [
    {
     "name": "stdout",
     "output_type": "stream",
     "text": [
      "enter the number to be checked10\n",
      "x is positive\n"
     ]
    }
   ],
   "source": [
    "# if condition usage\n",
    "def checkNum(x):\n",
    "    if x ==0:\n",
    "        print(\"x is zero\")\n",
    "    elif x > 0:\n",
    "        print(\"x is positive\")\n",
    "    elif x < 0:\n",
    "        print(\"x is negative\")\n",
    "    else:\n",
    "        print(\"please enter valid number\")\n",
    "checkNum(float(input(\"enter the number to be checked\")))\n",
    "\n",
    "\n"
   ]
  },
  {
   "cell_type": "code",
   "execution_count": null,
   "metadata": {},
   "outputs": [],
   "source": []
  },
  {
   "cell_type": "code",
   "execution_count": 3,
   "metadata": {},
   "outputs": [
    {
     "name": "stdout",
     "output_type": "stream",
     "text": [
      "455 2\n",
      "910\n"
     ]
    }
   ],
   "source": [
    "# how to pass multiple variables from user input into function\n",
    "def multiplyNo(a,b):\n",
    "    return(a*b)\n",
    "a,b = map(int,input().split())\n",
    "print(multiplyNo(a,b))"
   ]
  },
  {
   "cell_type": "code",
   "execution_count": null,
   "metadata": {},
   "outputs": [],
   "source": [
    "#how to pass set of numbers from a list  into function and use the return values\n",
    "def multiplier(n):\n",
    "    return(n*2)\n",
    "numbers=(1,2,3)\n",
    "result =map(multiplier,numbers)\n",
    "print(list(result))\n"
   ]
  },
  {
   "cell_type": "code",
   "execution_count": null,
   "metadata": {},
   "outputs": [],
   "source": [
    "# Handling exception with try and except\n",
    "inp = input(\"enter the temp in degree centgride \")\n",
    "try:\n",
    "    float_cent = float(inp)\n",
    "    farhnite = (float_cent + 32)*9/5\n",
    "    print('the equivalent value in degree farhnite is ', farhnite)\n",
    "except:\n",
    "    print(\"please enter a valid value\")\n"
   ]
  },
  {
   "cell_type": "raw",
   "metadata": {},
   "source": [
    "Exercise : Write a program to prompt for a score between 0.0 and\n",
    "1.0. If the score is out of range, print an error message. If the score is\n",
    "between 0.0 and 1.0, print a grade using the following table:\n",
    "    Score Grade\n",
    ">= 0.9 A\n",
    ">= 0.8 B\n",
    ">= 0.7 C\n",
    ">= 0.6 D\n",
    "< 0.6 F\n",
    "Enter score: 0.95\n",
    "A\n",
    "Enter score: perfect\n",
    "Bad score\n",
    "Enter score: 10.0\n",
    "Bad score\n",
    "Enter score: 0.75\n",
    "C\n",
    "Enter score: 0.5\n",
    "F"
   ]
  },
  {
   "cell_type": "code",
   "execution_count": 1,
   "metadata": {},
   "outputs": [
    {
     "name": "stdout",
     "output_type": "stream",
     "text": [
      "enter the score obtained: 1.2\n",
      "the score value is only possible if it is between 0 and 1\n"
     ]
    }
   ],
   "source": [
    "def check_score(inp):\n",
    "    try: \n",
    "        score = float(inp)\n",
    "        if score < 0.0 or score > 1.0:\n",
    "            print('the score value is only possible if it is between 0 and 1')\n",
    "        elif score >= 0.9:\n",
    "            print('A')\n",
    "        elif score >= 0.8:\n",
    "            print('B')\n",
    "        elif score >= 0.7:\n",
    "            print('C')\n",
    "        elif score >= 0.6:\n",
    "            print('D')\n",
    "        else:\n",
    "            print('F')\n",
    "    except:\n",
    "        print(\"error!! please enter a valid input\")\n",
    "            \n",
    "        \n",
    "inp = input('enter the score obtained: ')\n",
    "check_score(inp)"
   ]
  },
  {
   "cell_type": "code",
   "execution_count": null,
   "metadata": {},
   "outputs": [
    {
     "name": "stdout",
     "output_type": "stream",
     "text": [
      "enter the score obtained: 1\n",
      "A\n",
      "enter the score obtained: c\n",
      "error!! please enter a valid input\n",
      "enter the score obtained: end\n",
      "error!! please enter a valid input\n"
     ]
    }
   ],
   "source": [
    "# This program differ from previous that it runs continuously by calling a function within a function\n",
    "def check_score(inp):\n",
    "    try: \n",
    "        score = float(inp)\n",
    "        if score < 0.0 or score > 1.0:\n",
    "            print('the score value is only possible if it is between 0 and 1')\n",
    "        elif score >= 0.9:\n",
    "            print('A')\n",
    "        elif score >= 0.8:\n",
    "            print('B')\n",
    "        elif score >= 0.7:\n",
    "            print('C')\n",
    "        elif score >= 0.6:\n",
    "            print('D')\n",
    "        else:\n",
    "            print('F')\n",
    "        rept()\n",
    "        \n",
    "    except:\n",
    "        print(\"error!! please enter a valid input\")\n",
    "        rept()\n",
    "        \n",
    "    \n",
    "def rept():\n",
    "    inp= input(\"enter the score obtained: \")\n",
    "    check_score(inp)\n",
    "rept()\n",
    "            \n",
    "        \n",
    "\n",
    "\n"
   ]
  },
  {
   "cell_type": "code",
   "execution_count": 3,
   "metadata": {},
   "outputs": [
    {
     "name": "stdout",
     "output_type": "stream",
     "text": [
      "enter the score obtained: stop\n",
      "it stops: re run to start \n"
     ]
    }
   ],
   "source": [
    "# usage of break statment in an infinite while loop\n",
    "def check_score(inp):\n",
    "    try: \n",
    "        score = float(inp)\n",
    "        if score < 0.0 or score > 1.0:\n",
    "            print('the score value is only possible if it is between 0 and 1')\n",
    "        elif score >= 0.9:\n",
    "            print('A')\n",
    "        elif score >= 0.8:\n",
    "            print('B')\n",
    "        elif score >= 0.7:\n",
    "            print('C')\n",
    "        elif score >= 0.6:\n",
    "            print('D')\n",
    "        else:\n",
    "            print('F')\n",
    "    except:\n",
    "        print(\"error!! please enter a valid input\")\n",
    "            \n",
    "while True:\n",
    "    inp = input('enter the score obtained: ') \n",
    "    if inp ==\"stop\":\n",
    "        print(\"it stops: re run to start \")\n",
    "        break\n",
    "    check_score(inp)\n",
    "    \n"
   ]
  },
  {
   "cell_type": "code",
   "execution_count": 27,
   "metadata": {},
   "outputs": [
    {
     "name": "stdout",
     "output_type": "stream",
     "text": [
      "the greatest number of the list of numbers [20, 12, 54] is 54\n",
      "the smallest number of the list of numbers [20, 12, 54] is 12\n"
     ]
    }
   ],
   "source": [
    "# finding the maximum and minumum of list of numbers using for loops \n",
    "def find_max(elements):\n",
    "    greatest = None\n",
    "    for element in elements:\n",
    "        if greatest == None or element > greatest:\n",
    "            greatest = element\n",
    "    return greatest\n",
    "def find_min(elements):\n",
    "    smallest = None\n",
    "    for element in elements:\n",
    "        if smallest == None or element < smallest:\n",
    "            smallest = element\n",
    "    return smallest\n",
    "elements = [20,12,54]\n",
    "# %d--integer,%g--floating point,%s--string formating\n",
    "print(\"the greatest number of the list of numbers %s is\"%elements, find_max(elements))\n",
    "print(\"the smallest number of the list of numbers %s is\"%elements, find_min(elements))\n"
   ]
  },
  {
   "cell_type": "code",
   "execution_count": null,
   "metadata": {},
   "outputs": [],
   "source": [
    "#using while loop to get each character of a string in reverse order\n",
    "st = 'aman'\n",
    "a = len(st)-1\n",
    "while a >= 0:\n",
    "    print(st[a])\n",
    "    a= a-1\n",
    "print(\"done\")\n"
   ]
  },
  {
   "cell_type": "code",
   "execution_count": null,
   "metadata": {},
   "outputs": [],
   "source": [
    "# function that count the number of appearance of a character in a string\n",
    "def get_count(word):\n",
    "    count =0\n",
    "    for letter in word:\n",
    "        if letter == 'e':\n",
    "            count += 1\n",
    "    return count\n",
    "result = get_count(input('enter a string: '))\n",
    "print('the number of count of the letter e is : ', result)"
   ]
  },
  {
   "cell_type": "code",
   "execution_count": 24,
   "metadata": {},
   "outputs": [
    {
     "name": "stdout",
     "output_type": "stream",
     "text": [
      "Welcome to python and to jupyter\n",
      "True\n",
      "the letter t occurs: 4 times in   Welcome to python and to jupyter    \n",
      "the word to occurs: 2 times in   Welcome to python and to jupyter    \n",
      "the host address of the data From stephen.marquard@uct.ac.za Sat Jan 5 09:14:16 2008 is:  uct.ac.za\n"
     ]
    }
   ],
   "source": [
    "# donot forget string are immutable objects\n",
    "str = ' Welcome to python and to jupyter    '\n",
    "# to see the methods associated with the string object use dir\n",
    "dir(str)\n",
    "# to remove white spaces use strip function\n",
    "print(str.strip())\n",
    "# donot forget string are immutable objects\n",
    "str\n",
    "#startswith method returns true or false\n",
    "print(str.strip().lower().startswith('w'))\n",
    "# count can be used  to count the accourance of character or group of char in a string\n",
    "print('the letter t occurs:', str.count('t'), 'times in ', str)\n",
    "print('the word to occurs:', str.count('to'), 'times in ', str)\n",
    "#parsing string\n",
    "data = 'From stephen.marquard@uct.ac.za Sat Jan 5 09:14:16 2008'\n",
    "atpos= data.find('@')\n",
    "sppos = data.find(' ',atpos)\n",
    "print('the host address from the data %s is: '%data, data[atpos + 1:sppos])\n",
    "\n",
    "\n",
    "\n",
    "\n"
   ]
  },
  {
   "cell_type": "markdown",
   "metadata": {},
   "source": [
    "Exercise: Take the following Python code that stores a string:\n",
    "str = 'X-DSPAM-Confidence:0.8475'\n",
    "Use find and string slicing to extract the portion of the string after the\n",
    "colon character and then use the float function to convert the extracted\n",
    "string into a floating point number."
   ]
  },
  {
   "cell_type": "code",
   "execution_count": 34,
   "metadata": {},
   "outputs": [
    {
     "data": {
      "text/plain": [
       "0.8475"
      ]
     },
     "execution_count": 34,
     "metadata": {},
     "output_type": "execute_result"
    }
   ],
   "source": [
    "str = 'X-DSPAM-Confidence:0.8475'\n",
    "spos = str.find(':')\n",
    "float(str[spos + 1:len(str)])\n"
   ]
  },
  {
   "cell_type": "code",
   "execution_count": 49,
   "metadata": {},
   "outputs": [
    {
     "name": "stdout",
     "output_type": "stream",
     "text": [
      "enter value: 1\n",
      "enter value: 100\n",
      "enter value: 0.2\n",
      "enter value: eat\n",
      "please enter valid input: the value you write which is eat is not a numeric value\n",
      "enter value: 1\n",
      "enter value: 2\n",
      "enter value: 3\n",
      "enter value: 3\n",
      "enter value: done\n",
      "the total is 110.2 : count is 7 : and the average is 15.7429 \n"
     ]
    }
   ],
   "source": [
    "# finding average of set of values entered by a user\n",
    "\n",
    "def cal_average():\n",
    "    total = 0\n",
    "    count = 0\n",
    "    while True:\n",
    "        inp = input('enter value: ')\n",
    "        if inp == 'done':\n",
    "            break\n",
    "        try:\n",
    "            value = float(inp)\n",
    "            total = total + value\n",
    "            count += 1\n",
    "        except:\n",
    "            print('please enter valid input: the value you write which is %s is not a numeric value'%inp)\n",
    "    print('the total is %g : count is %d : and the average is %g '%(total,count,total/count))\n",
    "cal_average()\n",
    "    "
   ]
  },
  {
   "cell_type": "code",
   "execution_count": 51,
   "metadata": {},
   "outputs": [
    {
     "name": "stdout",
     "output_type": "stream",
     "text": [
      "enter value: 1\n",
      "enter value: 2\n",
      "enter value: 3\n",
      "enter value: done\n",
      "for a list of values: [1.0, 2.0, 3.0] the total is 6 : count is 3 :and average is 2 \n"
     ]
    }
   ],
   "source": [
    "# calculating average using list\n",
    "def cal_average():\n",
    "    list_val = []\n",
    "    count = 0\n",
    "    while True:\n",
    "        inp = input('enter value: ')\n",
    "        if inp == 'done':\n",
    "            break\n",
    "        try:\n",
    "            value = float(inp)\n",
    "            list_val.append(value)\n",
    "            \n",
    "        except:\n",
    "            print('please enter valid input: the value you write which is %s is not a numeric value'%inp)\n",
    "    print('for a list of values: %s the total is %g : count is %d :and average is %g '\\\n",
    "          %(list_val,sum(list_val),len(list_val),sum(list_val)/len(list_val)))\n",
    "cal_average()"
   ]
  },
  {
   "cell_type": "code",
   "execution_count": 55,
   "metadata": {},
   "outputs": [
    {
     "name": "stdout",
     "output_type": "stream",
     "text": [
      "List1:  ['this', 'is', 'python']\n",
      "List2:  ['t', 'h', 'i', 's', ' ', 'i', 's', ' ', 'p', 'y', 't', 'h', 'o', 'n']\n",
      "this-is-python\n"
     ]
    }
   ],
   "source": [
    "# relationship between list and string\n",
    "str = 'this is python'\n",
    "lst1= str.split()\n",
    "lst2 = list(str)\n",
    "print('List1: ', lst1)\n",
    "#['this', 'is', 'python']\n",
    "print('List2: ', lst2)\n",
    "# ['t', 'h', 'i', 's', ' ', 'i', 's', ' ', 'p', 'y', 't', 'h', 'o', 'n']\n",
    "print('-'.join(lst1))\n",
    "#this-is-python\n",
    "\n"
   ]
  },
  {
   "cell_type": "code",
   "execution_count": 60,
   "metadata": {},
   "outputs": [
    {
     "name": "stdout",
     "output_type": "stream",
     "text": [
      "Sat\n",
      "Fri\n",
      "Fri\n",
      "Fri\n",
      "Fri\n",
      "Fri\n",
      "Fri\n",
      "Fri\n",
      "Fri\n",
      "Fri\n",
      "Fri\n",
      "Fri\n",
      "Fri\n",
      "Fri\n",
      "Fri\n",
      "Fri\n",
      "Fri\n",
      "Fri\n",
      "Fri\n",
      "Fri\n",
      "Fri\n",
      "Thu\n",
      "Thu\n",
      "Thu\n",
      "Thu\n",
      "Thu\n",
      "Thu\n"
     ]
    }
   ],
   "source": [
    "fhand = open('mbox_short.txt')\n",
    "for line in fhand:\n",
    "    line = line.rstrip()\n",
    "    if not line.startswith('From '): continue\n",
    "    words = line.split()\n",
    "    print(words[2])"
   ]
  },
  {
   "cell_type": "markdown",
   "metadata": {},
   "source": [
    "Exercise: Write a function called chop that takes a list and modifies\n",
    "it, removing the first and last elements, and returns None. Then write\n",
    "a function called middle that takes a list and returns a new list that\n",
    "contains all but the first and last elements."
   ]
  },
  {
   "cell_type": "code",
   "execution_count": null,
   "metadata": {},
   "outputs": [],
   "source": []
  },
  {
   "cell_type": "code",
   "execution_count": 63,
   "metadata": {},
   "outputs": [
    {
     "name": "stdout",
     "output_type": "stream",
     "text": [
      "[3, 4]\n",
      "[2, 3, 4, 5]\n"
     ]
    }
   ],
   "source": [
    "def chop(lst):\n",
    "    del lst[0]\n",
    "    del lst[len(lst)-1]\n",
    "    print(lst)\n",
    "def middle(lst2):\n",
    "    mod_list = lst2[1:len(lst2)-1]\n",
    "    return mod_list\n",
    "    \n",
    "lst = [1,3,4,5]\n",
    "lst2 = [1,2,3,4,5,6]\n",
    "chop(lst)\n",
    "print(middle(lst2))\n"
   ]
  },
  {
   "cell_type": "markdown",
   "metadata": {},
   "source": [
    "Exercise : Find all unique words in a file\n",
    "Shakespeare used over 20,000 words in his works. But how would you\n",
    "determine that? How would you produce the list of all the words that\n",
    "Shakespeare used? Would you download all his work, read it and track\n",
    "all unique words by hand?\n",
    "Let’s use Python to achieve that instead. List all unique words, sorted\n",
    "in alphabetical order, that are stored in a file romeo.txt containing a\n",
    "subset of Shakespeare’s work.\n",
    "To get started, download a copy of the file www.py4e.com/code3/romeo.txt.\n",
    "Create a list of unique words, which will contain the final result. Write\n",
    "a program to open the file romeo.txt and read it line by line. For each106 CHAPTER 8. LISTS\n",
    "line, split the line into a list of words using the split function. For\n",
    "each word, check to see if the word is already in the list of unique\n",
    "words. If the word is not in the list of unique words, add it to the list.\n",
    "When the program completes, sort and print the list of unique words\n",
    "in alphabetical order."
   ]
  },
  {
   "cell_type": "code",
   "execution_count": 82,
   "metadata": {},
   "outputs": [
    {
     "name": "stdout",
     "output_type": "stream",
     "text": [
      "['already', 'and', 'arise', 'breaks', 'but', 'east', 'envious', 'fair', 'grief', 'is', 'it', 'juliet', 'kill', 'light', 'moon', 'pale', 'sick', 'soft', 'sun', 'the', 'through', 'what', 'who', 'window', 'with', 'yonder']\n"
     ]
    }
   ],
   "source": [
    "\n",
    "try:\n",
    "    fhand = open('romeo.txt')\n",
    "    lst = []\n",
    "    for line in fhand:\n",
    "        line = line.lower().rstrip().split(' ')\n",
    "        for word in line:\n",
    "            if word in lst:continue\n",
    "            lst.append(word)\n",
    "    lst.sort()           \n",
    "    print(lst)\n",
    "except:\n",
    "    print('error!! enter correct file name')\n",
    "        "
   ]
  },
  {
   "cell_type": "markdown",
   "metadata": {},
   "source": [
    "Exercise : Minimalist Email Client.\n",
    "MBOX (mail box) is a popular file format to store and share a collection\n",
    "of emails. This was used by early email servers and desktop apps.\n",
    "Without getting into too many details, MBOX is a text file, which\n",
    "stores emails consecutively. Emails are separated by a special line which\n",
    "starts with From (notice the space). Importantly, lines starting with\n",
    "From: (notice the colon) describes the email itself and does not act as\n",
    "a separator. Imagine you wrote a minimalist email app, that lists the\n",
    "email of the senders in the user’s Inbox and counts the number of emails.\n",
    "Write a program to read through the mail box data and when you find\n",
    "line that starts with “From”, you will split the line into words using the\n",
    "split function. We are interested in who sent the message, which is the\n",
    "second word on the From line.\n",
    "From stephen.marquard@uct.ac.za Sat Jan 5 09:14:16 2008\n",
    "You will parse the From line and print out the second word for each\n",
    "From line, then you will also count the number of From (not From:)\n",
    "lines and print out a count at the end."
   ]
  },
  {
   "cell_type": "code",
   "execution_count": 110,
   "metadata": {},
   "outputs": [
    {
     "name": "stdout",
     "output_type": "stream",
     "text": [
      "From: stephen.marquard@uct.ac.za\n",
      "From: louis@media.berkeley.edu\n",
      "From: zqian@umich.edu\n",
      "From: rjlowe@iupui.edu\n",
      "From: zqian@umich.edu\n",
      "From: rjlowe@iupui.edu\n",
      "From: cwen@iupui.edu\n",
      "From: cwen@iupui.edu\n",
      "From: gsilver@umich.edu\n",
      "From: gsilver@umich.edu\n",
      "From: zqian@umich.edu\n",
      "From: gsilver@umich.edu\n",
      "From: wagnermr@iupui.edu\n",
      "From: zqian@umich.edu\n",
      "From: antranig@caret.cam.ac.uk\n",
      "From: gopal.ramasammycook@gmail.com\n",
      "From: david.horwitz@uct.ac.za\n",
      "From: david.horwitz@uct.ac.za\n",
      "From: david.horwitz@uct.ac.za\n",
      "From: david.horwitz@uct.ac.za\n",
      "From: stephen.marquard@uct.ac.za\n",
      "From: louis@media.berkeley.edu\n",
      "From: louis@media.berkeley.edu\n",
      "From: ray@media.berkeley.edu\n",
      "From: cwen@iupui.edu\n",
      "From: cwen@iupui.edu\n",
      "From: cwen@iupui.edu\n",
      "the number of count of the word \"From\" is 27 times in the file\n"
     ]
    }
   ],
   "source": [
    "def count_email():\n",
    "    try:\n",
    "        fhand = open('mbox_short.txt')\n",
    "        count = 0\n",
    "        for line in fhand:\n",
    "            line = line.rstrip()\n",
    "            if not line.startswith('From'):continue\n",
    "            else:\n",
    "                \n",
    "                line_list = line.split()\n",
    "                if len(list(line_list[0])) == 4:\n",
    "                    count += 1\n",
    "                else:\n",
    "                    print(line)\n",
    "        print('the number of count of the word \"From\" is %d times in the file'%count)           \n",
    "    except:\n",
    "        print('enter correct file name')\n",
    "count_email()\n",
    "                \n",
    "            \n",
    "    "
   ]
  },
  {
   "cell_type": "markdown",
   "metadata": {},
   "source": [
    "Dutch Numbers\n",
    "zero — nul\n",
    "\n",
    "one — één\n",
    "\n",
    "two — twee\n",
    "\n",
    "three — drie\n",
    "\n",
    "four — vier\n",
    "\n",
    "five — vijf\n",
    "\n",
    "six — zes\n",
    "\n",
    "seven — zeven\n",
    "\n",
    "eight — acht\n",
    "\n",
    "nine — negen\n",
    "\n",
    "ten — tien"
   ]
  },
  {
   "cell_type": "code",
   "execution_count": 29,
   "metadata": {},
   "outputs": [
    {
     "name": "stdout",
     "output_type": "stream",
     "text": [
      "enter file nameeng2dutch.txt\n",
      "['zero', 'nul']\n",
      "['one', 'Ã©Ã©n']\n",
      "['two', 'twee']\n",
      "['three', 'drie']\n",
      "['four', 'vier']\n",
      "['five', 'vijf']\n",
      "['six', 'zes']\n",
      "['seven', 'zeven']\n",
      "['eight', 'acht']\n",
      "['nine', 'negen']\n",
      "['ten', 'tien']\n",
      "the dictionary contain the following words {'zero': 'nul', 'one': 'Ã©Ã©n', 'two': 'twee', 'three': 'drie', 'four': 'vier', 'five': 'vijf', 'six': 'zes', 'seven': 'zeven', 'eight': 'acht', 'nine': 'negen', 'ten': 'tien'}\n"
     ]
    }
   ],
   "source": [
    "# store the english - dutch equivalent into dictionary\n",
    "fname = input('enter file name')\n",
    "dic = dict()\n",
    "try:\n",
    "    fhand = open(fname)\n",
    "except:\n",
    "    print('error! please enter correct file name:', fname)\n",
    "for line in fhand:\n",
    "    line = line.rstrip()\n",
    "    if len(line) == 0: continue\n",
    "    line = line.split(' - ')\n",
    "    print(line)\n",
    "    if line[0] in dic:cointinue\n",
    "    dic[line[0]] = line[1]\n",
    "print('the dictionary contain the following words',dic)\n",
    "    \n"
   ]
  },
  {
   "cell_type": "markdown",
   "metadata": {},
   "source": [
    "Exercise: Download a copy of the file www.py4e.com/code3/words.txt\n",
    "Write a program that reads the words in words.txt and stores them as\n",
    "keys in a dictionary. It doesn’t matter what the values are. Then you\n",
    "can use the in operator as a fast way to check whether a string is in the\n",
    "dictionary"
   ]
  },
  {
   "cell_type": "code",
   "execution_count": 114,
   "metadata": {},
   "outputs": [
    {
     "name": "stdout",
     "output_type": "stream",
     "text": [
      "['Writing', 'programs', 'or', 'programming', 'is', 'a', 'very', 'creative']\n",
      "['and', 'rewarding', 'activity', 'You', 'can', 'write', 'programs', 'for']\n",
      "['many', 'reasons', 'ranging', 'from', 'making', 'your', 'living', 'to', 'solving']\n",
      "['a', 'difficult', 'data', 'analysis', 'problem', 'to', 'having', 'fun', 'to', 'helping']\n",
      "['someone', 'else', 'solve', 'a', 'problem', 'This', 'book', 'assumes', 'that']\n",
      "['{\\\\em', 'everyone}', 'needs', 'to', 'know', 'how', 'to', 'program', 'and', 'that', 'once']\n",
      "['you', 'know', 'how', 'to', 'program,', 'you', 'will', 'figure', 'out', 'what', 'you', 'want']\n",
      "['to', 'do', 'with', 'your', 'newfound', 'skills']\n",
      "[]\n",
      "['We', 'are', 'surrounded', 'in', 'our', 'daily', 'lives', 'with', 'computers', 'ranging']\n",
      "['from', 'laptops', 'to', 'cell', 'phones', 'We', 'can', 'think', 'of', 'these', 'computers']\n",
      "['as', 'our', 'personal', 'assistants', 'who', 'can', 'take', 'care', 'of', 'many', 'things']\n",
      "['on', 'our', 'behalf', 'The', 'hardware', 'in', 'our', 'current-day', 'computers']\n",
      "['is', 'essentially', 'built', 'to', 'continuously', 'ask', 'us', 'the', 'question']\n",
      "['What', 'would', 'you', 'like', 'me', 'to', 'do', 'next']\n",
      "[]\n",
      "['Our', 'computers', 'are', 'fast', 'and', 'have', 'vasts', 'amounts', 'of', 'memory', 'and']\n",
      "['could', 'be', 'very', 'helpful', 'to', 'us', 'if', 'we', 'only', 'knew', 'the', 'language', 'to']\n",
      "['speak', 'to', 'explain', 'to', 'the', 'computer', 'what', 'we', 'would', 'like', 'it', 'to']\n",
      "['do', 'next', 'If', 'we', 'knew', 'this', 'language', 'we', 'could', 'tell', 'the']\n",
      "['computer', 'to', 'do', 'tasks', 'on', 'our', 'behalf', 'that', 'were', 'reptitive']\n",
      "['Interestingly,', 'the', 'kinds', 'of', 'things', 'computers', 'can', 'do', 'best']\n",
      "['are', 'often', 'the', 'kinds', 'of', 'things', 'that', 'we', 'humans', 'find', 'boring']\n",
      "['and', 'mind-numbing']\n",
      "12\n"
     ]
    }
   ],
   "source": [
    "####### not done \n",
    "try:\n",
    "    fhand = open('words.txt')\n",
    "    word_dic = dict()\n",
    "    for line in fhand:\n",
    "        line = line.rstrip().split()\n",
    "        print(line)\n",
    "        for word in line:\n",
    "            word_dic = word\n",
    "    print(len(word_dic))\n",
    "except:\n",
    "    print('please enter correct file')\n",
    "    "
   ]
  },
  {
   "cell_type": "code",
   "execution_count": 2,
   "metadata": {},
   "outputs": [
    {
     "name": "stdout",
     "output_type": "stream",
     "text": [
      "enter a wordamansi wedieee\n",
      "{'a': 2, 'm': 1, 'n': 1, 's': 1, 'i': 2, ' ': 1, 'w': 1, 'e': 4, 'd': 1}\n"
     ]
    }
   ],
   "source": [
    "#counting the number of appearance of letters in the word and return the letter which used most\n",
    "try:\n",
    "    dic = dict()\n",
    "    str = input('enter a word')\n",
    "    for letter in str:\n",
    "        # get method returns the croesponding value otherwirse the default value\n",
    "        dic[letter] = dic.get(letter,0) + 1\n",
    "#  or       if letter not in dic:\n",
    "#             dic[letter] = 1\n",
    "#         else:\n",
    "#             dic[letter] += 1\n",
    "    print(dic)\n",
    "except:\n",
    "    print(\"error\")"
   ]
  },
  {
   "cell_type": "code",
   "execution_count": 8,
   "metadata": {},
   "outputs": [
    {
     "name": "stdout",
     "output_type": "stream",
     "text": [
      "enter file nameromeo.txt\n",
      "{'but': 1, 'soft': 1, 'what': 1, 'light': 1, 'through': 1, 'yonder': 1, 'window': 1, 'breaks': 1, 'it': 1, 'is': 3, 'the': 3, 'east': 1, 'and': 3, 'juliet': 1, 'sun': 2, 'arise': 1, 'fair': 1, 'kill': 1, 'envious': 1, 'moon': 1, 'who': 1, 'already': 1, 'sick': 1, 'pale': 1, 'with': 1, 'grief': 1}\n"
     ]
    }
   ],
   "source": [
    "import string\n",
    "fname = input('enter file name')\n",
    "try:\n",
    "    fhand = open(fname)\n",
    "except:\n",
    "    print('file not exists: ',fname)\n",
    "    exit()\n",
    "dic = dict()\n",
    "for line in fhand:\n",
    "    line = line.rstrip()\n",
    "    line = line.translate(line.maketrans('', '', string.punctuation))\n",
    "    line = line.lower()\n",
    "    line = line.split()\n",
    "    \n",
    "    for word in line:\n",
    "        dic[word] = dic.get(word,0) + 1\n",
    "print(dic)"
   ]
  },
  {
   "cell_type": "markdown",
   "metadata": {},
   "source": [
    "Exercise: Write a program to read through a mail log, build a histogram using a dictionary to count how many messages have come from\n",
    "each email address, and print the dictionary.And\n",
    "add code to the above program to figure out who has the\n",
    "most messages in the file"
   ]
  },
  {
   "cell_type": "code",
   "execution_count": 16,
   "metadata": {},
   "outputs": [
    {
     "name": "stdout",
     "output_type": "stream",
     "text": [
      "enter file namembox_short.txt\n",
      "{'stephen.marquard@uct.ac.za': 2, 'louis@media.berkeley.edu': 3, 'zqian@umich.edu': 4, 'rjlowe@iupui.edu': 2, 'cwen@iupui.edu': 5, 'gsilver@umich.edu': 3, 'wagnermr@iupui.edu': 1, 'antranig@caret.cam.ac.uk': 1, 'gopal.ramasammycook@gmail.com': 1, 'david.horwitz@uct.ac.za': 4, 'ray@media.berkeley.edu': 1}\n",
      "more email is sent to  cwen@iupui.edu which is 5\n"
     ]
    }
   ],
   "source": [
    "import string\n",
    "fname = input('enter file name')\n",
    "dic = dict()\n",
    "max = None\n",
    "max_key = None\n",
    "min = None\n",
    "try:\n",
    "    fhand = open(fname)\n",
    "except:\n",
    "    print('enter correct file name:',fname)\n",
    "    exit()\n",
    "for line in fhand:\n",
    "    line = line.rstrip()\n",
    "    if not line.startswith('From:'): continue\n",
    "    line_list = line.split()\n",
    "    email = line_list[1]\n",
    "    dic[email] = dic.get(email,0) + 1\n",
    "for key in dic:\n",
    "    if max == None or dic[key] > max:\n",
    "        max = dic[key]\n",
    "        max_key = key\n",
    "print(dic)\n",
    "print('more email is sent to:', max_key, 'which is', dic[max_key])\n",
    "    "
   ]
  },
  {
   "cell_type": "code",
   "execution_count": 37,
   "metadata": {},
   "outputs": [
    {
     "name": "stdout",
     "output_type": "stream",
     "text": [
      "[(6, 'yonder'), (6, 'window'), (6, 'breaks'), (5, 'light'), (4, 'what'), (4, 'soft'), (3, 'but'), (2, 'in')]\n",
      "['yonder', 'window', 'breaks', 'light', 'what', 'soft', 'but', 'in']\n"
     ]
    }
   ],
   "source": [
    "#tuples example\n",
    "txt = 'but soft what light in yonder window breaks'\n",
    "words = txt.split()\n",
    "t = list()\n",
    "for word in words:\n",
    "    t.append((len(word), word))\n",
    "#print(t)\n",
    "t.sort(reverse = True)\n",
    "print(t)\n",
    "res = list()\n",
    "for length, word in t:\n",
    "    res.append(word)\n",
    "print(res)"
   ]
  },
  {
   "cell_type": "code",
   "execution_count": 42,
   "metadata": {},
   "outputs": [
    {
     "name": "stdout",
     "output_type": "stream",
     "text": [
      "amanuelsimon gmail.com\n"
     ]
    }
   ],
   "source": [
    "email = 'amanuelsimon@gmail.com'\n",
    "username, platform = email.split('@')\n",
    "print(username,platform)"
   ]
  },
  {
   "cell_type": "code",
   "execution_count": 2,
   "metadata": {},
   "outputs": [
    {
     "ename": "SyntaxError",
     "evalue": "invalid syntax (<ipython-input-2-7d06e6262745>, line 2)",
     "output_type": "error",
     "traceback": [
      "\u001b[1;36m  File \u001b[1;32m\"<ipython-input-2-7d06e6262745>\"\u001b[1;36m, line \u001b[1;32m2\u001b[0m\n\u001b[1;33m    Dictionaries have a method called items that returns a list of tuples, where each\u001b[0m\n\u001b[1;37m                 ^\u001b[0m\n\u001b[1;31mSyntaxError\u001b[0m\u001b[1;31m:\u001b[0m invalid syntax\n"
     ]
    }
   ],
   "source": [
    "dictionary and tuples\n",
    "Dictionaries have a method called items that returns a list of tuples, where each\n",
    "tuple is a key-value pair:\n",
    ">>> d = {'a':10, 'b':1, 'c':22}\n",
    ">>> t = list(d.items())\n",
    ">>> print(t)\n",
    "[('b', 1), ('a', 10), ('c', 22)]\n",
    "As you should expect from a dictionary, the items are in no particular order.\n",
    "However, since the list of tuples is a list, and tuples are comparable, we can now\n",
    "sort the list of tuples. Converting a dictionary to a list of tuples is a way for us to\n",
    "output the contents of a dictionary sorted by key:\n",
    ">>> d = {'a':10, 'b':1, 'c':22}\n",
    ">>> t = list(d.items())\n",
    ">>> t\n",
    "[('b', 1), ('a', 10), ('c', 22)]\n",
    ">>> t.sort()\n",
    ">>> t\n",
    "[('a', 10), ('b', 1), ('c', 22)]\n",
    "The new list is sorted in ascending alphabetical order by the key value.\n"
   ]
  },
  {
   "cell_type": "code",
   "execution_count": 16,
   "metadata": {},
   "outputs": [
    {
     "name": "stdout",
     "output_type": "stream",
     "text": [
      "1 a\n",
      "2 b\n",
      "3 c\n"
     ]
    }
   ],
   "source": [
    "d = {'a':1,'b':2,'c':3}\n",
    "for key, value  in list(d.items()):\n",
    "    print(value, key)"
   ]
  }
 ],
 "metadata": {
  "kernelspec": {
   "display_name": "Python 3",
   "language": "python",
   "name": "python3"
  },
  "language_info": {
   "codemirror_mode": {
    "name": "ipython",
    "version": 3
   },
   "file_extension": ".py",
   "mimetype": "text/x-python",
   "name": "python",
   "nbconvert_exporter": "python",
   "pygments_lexer": "ipython3",
   "version": "3.8.3"
  }
 },
 "nbformat": 4,
 "nbformat_minor": 4
}
